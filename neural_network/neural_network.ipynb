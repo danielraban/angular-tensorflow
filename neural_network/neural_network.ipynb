{
 "cells": [
  {
   "cell_type": "code",
   "execution_count": null,
   "metadata": {},
   "outputs": [
    {
     "name": "stdout",
     "output_type": "stream",
     "text": [
      "Epoch 1/10\n",
      "469/469 [==============================] - 80s 172ms/step - loss: 0.1380 - accuracy: 0.9584\n",
      "Epoch 2/10\n",
      "469/469 [==============================] - 87s 185ms/step - loss: 0.0395 - accuracy: 0.9872\n",
      "Epoch 3/10\n",
      "469/469 [==============================] - 89s 190ms/step - loss: 0.0234 - accuracy: 0.9926\n",
      "Epoch 4/10\n",
      "228/469 [=============>................] - ETA: 44s - loss: 0.0162 - accuracy: 0.9947"
     ]
    }
   ],
   "source": [
    "from tensorflow.keras.layers import Dense, Flatten, Conv2D, MaxPooling2D\n",
    "from tensorflow.keras import Sequential\n",
    "from tensorflow.keras.datasets import mnist\n",
    "\n",
    "import matplotlib.pyplot as plt\n",
    "import numpy as np\n",
    "\n",
    "model = Sequential()\n",
    "model.add(Conv2D(32, 3, activation='relu', input_shape=(28,28, 1)))\n",
    "model.add(Conv2D(64, 3, activation='relu'))\n",
    "model.add(Conv2D(128, 3, activation='relu'))\n",
    "model.add(MaxPooling2D(2, 2))\n",
    "model.add(Flatten())\n",
    "model.add(Dense(128, activation='relu'))\n",
    "model.add(Dense(10, activation='softmax'))\n",
    "\n",
    "model.compile(optimizer='adam',\n",
    "              loss='sparse_categorical_crossentropy',\n",
    "              metrics=['accuracy'])\n",
    "\n",
    "(X_train, y_train), (X_test, y_test) = mnist.load_data()\n",
    "\n",
    "X_train = X_train / 255.0\n",
    "X_train = np.expand_dims(X_train, axis=3)\n",
    "\n",
    "X_test = X_test / 255.0\n",
    "X_test = np.expand_dims(X_test, axis=3)\n",
    "\n",
    "model.fit(X_train, y_train, batch_size=128, epochs=10)\n",
    "\n",
    "score = model.evaluate(X_test, y_test)\n",
    "print(\"Accuracy is: {}\".format(score[1]))\n",
    "\n",
    "predictions = model.predict(X_test)\n",
    "\n",
    "plt.figure(figsize=(28, 28)) \n",
    "for i in range(5):    \n",
    "    ax = plt.subplot(2, 10, i + 1)    \n",
    "    plt.imshow(X_test[i, :, :, 0], cmap='gray')\n",
    "    original = y_test[i]\n",
    "    predicted = np.argmax(predictions[i])\n",
    "    plt.title(\"Original: {}\\nPredicted: {}\".format(original, predicted), loc='left')    \n",
    "    plt.axis('off') \n",
    "plt.show()\n",
    "\n",
    "model.save('model.h5')"
   ]
  },
  {
   "cell_type": "code",
   "execution_count": null,
   "metadata": {},
   "outputs": [],
   "source": []
  },
  {
   "cell_type": "code",
   "execution_count": null,
   "metadata": {},
   "outputs": [],
   "source": []
  }
 ],
 "metadata": {
  "kernelspec": {
   "display_name": "Python 3",
   "language": "python",
   "name": "python3"
  },
  "language_info": {
   "codemirror_mode": {
    "name": "ipython",
    "version": 3
   },
   "file_extension": ".py",
   "mimetype": "text/x-python",
   "name": "python",
   "nbconvert_exporter": "python",
   "pygments_lexer": "ipython3",
   "version": "3.7.7"
  }
 },
 "nbformat": 4,
 "nbformat_minor": 4
}
